{
 "cells": [
  {
   "cell_type": "code",
   "execution_count": null,
   "metadata": {},
   "outputs": [],
   "source": [
    "import networkx as nx\n",
    "import matplotlib.pyplot as plt\n",
    "\n",
    "%matplotlib inline\n",
    "\n",
    "import seaborn as sns"
   ]
  },
  {
   "cell_type": "code",
   "execution_count": null,
   "metadata": {},
   "outputs": [],
   "source": [
    "sns.set_style('ticks')"
   ]
  },
  {
   "cell_type": "code",
   "execution_count": null,
   "metadata": {},
   "outputs": [],
   "source": [
    "def finance_binomial_tree(n):\n",
    "    \"\"\"\n",
    "        From Wikipedia: The binomial options pricing model (BOPM) provides a generalizable\n",
    "        numerical method for the valuation of options. Essentially, the model uses a\n",
    "        \"discrete-time\" (lattice based) model of the varying price over time of\n",
    "        the underlying financial instrument. It was proposed by Sharpe (1978), and formalized\n",
    "        Cox et al. (1979) and Rendleman & Bartter (1979).\n",
    "        \n",
    "        Parameters\n",
    "        ----------\n",
    "        n: Number of time steps on the tree\n",
    "        \n",
    "        Returns\n",
    "        -------\n",
    "        G, pos_G: A graph and the positions for the proper plot.\n",
    "    \"\"\"\n",
    "\n",
    "    G = nx.Graph()\n",
    "    for i in range(0,n+1):\n",
    "        for j in range(1,i+2):\n",
    "            if i<n:\n",
    "                G.add_edge((i,j),(i+1,j))\n",
    "                G.add_edge((i,j),(i+1,j+1))\n",
    "\n",
    "    posG = {}\n",
    "\n",
    "    for node in G.nodes():\n",
    "        posG[node]=(node[0],n+2+node[0]-2*node[1])\n",
    "\n",
    "    return G, posG\n",
    "\n",
    "tree, pos_tree = finance_binomial_tree(6)\n",
    "nx.draw(tree, pos_tree)"
   ]
  },
  {
   "cell_type": "markdown",
   "metadata": {},
   "source": [
    "## References\n",
    "\n",
    "Cox, J. C.; Ross, S. A.; Rubinstein, M. (1979). \"Option pricing: A simplified approach\". Journal of Financial Economics. 7 (3): 229. CiteSeerX 10.1.1.379.7582. doi:10.1016/0304-405X(79)90015-1.\n",
    "\n",
    "Richard J. Rendleman, Jr. and Brit J. Bartter. 1979. \"Two-State Option Pricing\". Journal of Finance 24: 1093-1110. doi:10.2307/2327237"
   ]
  }
 ],
 "metadata": {
  "kernelspec": {
   "display_name": "Python 3",
   "language": "python",
   "name": "python3"
  },
  "language_info": {
   "codemirror_mode": {
    "name": "ipython",
    "version": 3
   },
   "file_extension": ".py",
   "mimetype": "text/x-python",
   "name": "python",
   "nbconvert_exporter": "python",
   "pygments_lexer": "ipython3",
   "version": "3.7.3"
  }
 },
 "nbformat": 4,
 "nbformat_minor": 2
}
