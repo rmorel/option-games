{
 "cells": [
  {
   "cell_type": "code",
   "execution_count": null,
   "metadata": {},
   "outputs": [],
   "source": [
    "import networkx as nx\n",
    "import matplotlib.pyplot as plt\n",
    "\n",
    "%matplotlib inline\n",
    "\n",
    "import seaborn as sns\n",
    "import numpy as np"
   ]
  },
  {
   "cell_type": "code",
   "execution_count": null,
   "metadata": {},
   "outputs": [],
   "source": [
    "sns.set_style('ticks')"
   ]
  },
  {
   "cell_type": "code",
   "execution_count": null,
   "metadata": {},
   "outputs": [],
   "source": [
    "def demand_binomial_tree(n = 6, p_up = 0.3, p_down = 0.7, inc=2200/2093, dinc=2093/2200, v0 = 2200):\n",
    "    \"\"\"\n",
    "        From Wikipedia: The binomial options pricing model (BOPM) provides a generalizable\n",
    "        numerical method for the valuation of options. Essentially, the model uses a\n",
    "        \"discrete-time\" (lattice based) model of the varying price over time of\n",
    "        the underlying financial instrument. It was proposed by Sharpe (1978), and formalized\n",
    "        Cox et al. (1979) and Rendleman & Bartter (1979).\n",
    "        \n",
    "        This BOPM gives the demand and associated probability for the Option Games paper\n",
    "        \n",
    "        Parameters\n",
    "        ----------\n",
    "        n: Number of time steps on the tree (e.g. years) (int)\n",
    "        \n",
    "        Returns\n",
    "        -------\n",
    "        G: A graph with demand associated probabilities.\n",
    "    \"\"\"\n",
    "\n",
    "    G = nx.DiGraph()\n",
    "    for i in range(0, n+1):\n",
    "        for j in range(1, i+2):\n",
    "            if i < n:\n",
    "                G.add_edge((i,j),(i+1,j), weight=p_up, inc=inc)\n",
    "                G.add_edge((i,j),(i+1,j+1), weight=p_down,  inc=dinc)\n",
    "\n",
    "    for node in G.nodes():\n",
    "        G.nodes[node]['pos']=(node[0],n+2+node[0]-2*node[1])\n",
    "        G.nodes[node]['demand'] = 0\n",
    "        G.nodes[node]['prob'] = 0\n",
    "\n",
    "    G.nodes[0,1]['demand'] = v0\n",
    "    G.nodes[0,1]['prob'] = 1\n",
    "\n",
    "    for node in G.nodes():\n",
    "        for succ in G.successors(node):\n",
    "            # Edge weight\n",
    "            i = G.get_edge_data(node, succ)['inc']\n",
    "            d = G.nodes[node]['demand']\n",
    "            p = G.nodes[node]['prob']\n",
    "\n",
    "            w = G.get_edge_data(node, succ)['weight']\n",
    "\n",
    "            G.nodes[succ]['demand'] = i * d\n",
    "            G.nodes[succ]['prob'] += w * p\n",
    "            \n",
    "    return G\n"
   ]
  },
  {
   "cell_type": "code",
   "execution_count": null,
   "metadata": {},
   "outputs": [],
   "source": [
    "G = demand_binomial_tree()"
   ]
  },
  {
   "cell_type": "code",
   "execution_count": null,
   "metadata": {},
   "outputs": [],
   "source": [
    "figsize = (15, 7)"
   ]
  },
  {
   "cell_type": "code",
   "execution_count": null,
   "metadata": {},
   "outputs": [],
   "source": [
    "plt.figure(figsize=figsize)\n",
    "plt.title('Demand evolution')\n",
    "\n",
    "labels = nx.get_node_attributes(G, 'demand')\n",
    "pos=nx.get_node_attributes(G,'pos')\n",
    "\n",
    "for l in labels:\n",
    "    labels[l] = np.int(np.round(labels[l], 0))\n",
    "\n",
    "nx.draw(G, pos, labels=labels, node_size=2000)\n",
    "\n",
    "labels = nx.get_edge_attributes(G,'inc')\n",
    "for l in labels:\n",
    "    labels[l] = '{:.1f}%'.format((1 - labels[l])*100)\n",
    "\n",
    "nx.draw_networkx_edge_labels(G,pos,edge_labels=labels);"
   ]
  },
  {
   "cell_type": "code",
   "execution_count": null,
   "metadata": {},
   "outputs": [],
   "source": [
    "plt.figure(figsize=figsize)\n",
    "plt.title('Probability of demand evolution')\n",
    "\n",
    "labels = nx.get_node_attributes(G, 'prob')\n",
    "pos=nx.get_node_attributes(G,'pos')\n",
    "\n",
    "for l in labels:\n",
    "    labels[l] = '{:.1f}%'.format(labels[l]*100)\n",
    "\n",
    "nx.draw(G, pos, labels=labels, node_size=2000)\n",
    "\n",
    "labels = nx.get_edge_attributes(G,'weight')\n",
    "\n",
    "for l in labels:\n",
    "    labels[l] = '{:.0f}%'.format(labels[l]*100)\n",
    "    \n",
    "nx.draw_networkx_edge_labels(G,pos,edge_labels=labels);"
   ]
  },
  {
   "cell_type": "markdown",
   "metadata": {},
   "source": [
    "## Example projects"
   ]
  },
  {
   "cell_type": "code",
   "execution_count": null,
   "metadata": {},
   "outputs": [],
   "source": [
    "projects = {\n",
    "    'MineCo' : {\n",
    "        'CAPEX' : 250,\n",
    "        'OPEX' : 687,\n",
    "        'Capacity' : 250e3\n",
    "    },\n",
    "    'CompCo' : {\n",
    "        'CAPEX' : 150,\n",
    "        'OPEX' : 740,\n",
    "        'Capacity' : 320e3\n",
    "    }\n",
    "}\n",
    "\n",
    "projects"
   ]
  },
  {
   "cell_type": "code",
   "execution_count": null,
   "metadata": {},
   "outputs": [],
   "source": [
    "t = 20 # Years\n",
    "t0 = 3 # Years\n",
    "\n",
    "price = 1000 # USD/ton\n",
    "\n",
    "fig, ax = plt.subplots(2, 1, sharex=True, sharey=True, figsize=figsize)\n",
    "# Remove horizontal space between axes\n",
    "fig.subplots_adjust(hspace=0, wspace=0)\n",
    "ax[0].set_title('Nominal cash flow')\n",
    "\n",
    "for i, comp in enumerate(projects):\n",
    "    CAPEX = np.zeros(t)\n",
    "    OPEX = np.zeros(t)\n",
    "    revenues = np.zeros(t)\n",
    "\n",
    "    CAPEX[0:3] = -projects[comp]['Capacity'] * projects['MineCo']['CAPEX']/3. / 1e6\n",
    "    OPEX[3:] = -projects[comp]['Capacity'] * projects['MineCo']['OPEX'] / 1e6\n",
    "\n",
    "    revenues[3:] = projects[comp]['Capacity'] * price/1e6\n",
    "\n",
    "\n",
    "    ax[i].bar(range(t), CAPEX, label='CAPEX', width=1)\n",
    "    ax[i].bar(range(t), OPEX, label='OPEX', width=1)\n",
    "    ax[i].bar(range(t), revenues, label='Revenues', width=1)\n",
    "    ax[i].plot(CAPEX + OPEX + revenues, 'r-o', label='net cash flow')\n",
    "\n",
    "    ax[i].set_ylabel('{} CF (MUSD)'.format(comp))\n",
    "\n",
    "    ax[i].legend()\n",
    "    \n",
    "ax[1].set_xlabel('years');"
   ]
  },
  {
   "cell_type": "code",
   "execution_count": null,
   "metadata": {},
   "outputs": [],
   "source": [
    "d = np.arange(t)\n",
    "d = 1/np.power(1.05, d)\n",
    "\n",
    "fig, ax = plt.subplots(2, 1, sharex=True, sharey=True, figsize=figsize)\n",
    "# Remove horizontal space between axes\n",
    "fig.subplots_adjust(hspace=0, wspace=0)\n",
    "ax[0].set_title('Discounted cash flow')\n",
    "\n",
    "for i, comp in enumerate(projects):\n",
    "    CAPEX = np.zeros(t)\n",
    "    OPEX = np.zeros(t)\n",
    "    revenues = np.zeros(t)\n",
    "\n",
    "    CAPEX[0:3] = -projects[comp]['Capacity'] * projects['MineCo']['CAPEX']/3. / 1e6\n",
    "    OPEX[3:] = -projects[comp]['Capacity'] * projects['MineCo']['OPEX'] / 1e6\n",
    "\n",
    "    revenues[3:] = projects[comp]['Capacity'] * price/1e6\n",
    "\n",
    "\n",
    "    ax[i].bar(range(t), CAPEX*d, label='CAPEX', width=1)\n",
    "    ax[i].bar(range(t), OPEX*d, label='OPEX', width=1)\n",
    "    ax[i].bar(range(t), revenues*d, label='Revenues', width=1)\n",
    "    ax[i].plot((CAPEX + OPEX + revenues)*d, 'r-o', label='net cash flow')\n",
    "\n",
    "    ax[i].set_ylabel('{} DCF (MUSD)'.format(comp))\n",
    "\n",
    "    ax[i].legend(loc='upper left')\n",
    "    \n",
    "    print(comp, np.sum((CAPEX + OPEX + revenues)*d).round(2))\n",
    "    \n",
    "ax[1].set_xlabel('years');"
   ]
  },
  {
   "cell_type": "code",
   "execution_count": null,
   "metadata": {},
   "outputs": [],
   "source": [
    "demand = [1630, 1713, 1801, 1894, 1991, 2093, 2200, 2313, 2431, 2556, 2687, 2825, 2970]\n",
    "price = [680, 685, 685, 685, 687, 700, 700, 700, 740, 1000, 1000, 1000, 1000]\n",
    "\n",
    "plt.figure(figsize=figsize)\n",
    "plt.step(demand, price, where='post')\n",
    "plt.xlabel('Demand (kt)')\n",
    "plt.ylabel('Price (USD/kt)')"
   ]
  },
  {
   "cell_type": "markdown",
   "metadata": {},
   "source": [
    "## References\n",
    "\n",
    "Cox, J. C.; Ross, S. A.; Rubinstein, M. (1979). \"Option pricing: A simplified approach\". Journal of Financial Economics. 7 (3): 229. CiteSeerX 10.1.1.379.7582. doi:10.1016/0304-405X(79)90015-1.\n",
    "\n",
    "Richard J. Rendleman, Jr. and Brit J. Bartter. 1979. \"Two-State Option Pricing\". Journal of Finance 24: 1093-1110. doi:10.2307/2327237"
   ]
  }
 ],
 "metadata": {
  "kernelspec": {
   "display_name": "Python 3",
   "language": "python",
   "name": "python3"
  },
  "language_info": {
   "codemirror_mode": {
    "name": "ipython",
    "version": 3
   },
   "file_extension": ".py",
   "mimetype": "text/x-python",
   "name": "python",
   "nbconvert_exporter": "python",
   "pygments_lexer": "ipython3",
   "version": "3.7.3"
  }
 },
 "nbformat": 4,
 "nbformat_minor": 2
}
